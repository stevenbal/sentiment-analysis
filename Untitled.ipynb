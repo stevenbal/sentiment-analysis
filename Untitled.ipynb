{
 "cells": [
  {
   "cell_type": "markdown",
   "metadata": {},
   "source": [
    "# Uitbreiden met wordnet/thesaurus, confidence level, combineren met andere metrics, stemming for words, stopwords eruit, negations achter elkaar, precision recall F1 confusion matrix, smoothing, generative model van SDA combineren majority vote, mixture model tweaken"
   ]
  },
  {
   "cell_type": "markdown",
   "metadata": {},
   "source": [
    "## spell correcter, andere shit"
   ]
  },
  {
   "cell_type": "code",
   "execution_count": 1,
   "metadata": {
    "collapsed": false
   },
   "outputs": [],
   "source": [
    "from bigram_model import *"
   ]
  },
  {
   "cell_type": "code",
   "execution_count": 2,
   "metadata": {
    "collapsed": false
   },
   "outputs": [],
   "source": [
    "LM_pos = LanguageModel('corpora/review_polarity/txt_sentoken/pos', N=5, stemming=True)\n",
    "LM_neg = LanguageModel('corpora/review_polarity/txt_sentoken/neg', N=5, stemming=True)\n",
    "LM_pos_char = LanguageModel('corpora/review_polarity/txt_sentoken/pos', words=False, N=5)\n",
    "LM_neg_char = LanguageModel('corpora/review_polarity/txt_sentoken/neg', words=False, N=5)"
   ]
  },
  {
   "cell_type": "code",
   "execution_count": 3,
   "metadata": {
    "collapsed": true
   },
   "outputs": [],
   "source": [
    "LM_pos.save_models(\"positive_n5.p\")\n",
    "LM_neg.save_models(\"negative_n5.p\")\n",
    "LM_pos_char.save_models(\"positive_char_n5.p\")\n",
    "LM_neg_char.save_models(\"negative_char_n5.p\")"
   ]
  },
  {
   "cell_type": "code",
   "execution_count": 6,
   "metadata": {
    "collapsed": true
   },
   "outputs": [],
   "source": [
    "LM_pos = LanguageModel(model_file='positive.p')\n",
    "LM_neg = LanguageModel(model_file='negative.p')\n",
    "LM_pos_char = LanguageModel(model_file='positive_char.p')\n",
    "LM_neg_char = LanguageModel(model_file='negative_char.p')"
   ]
  },
  {
   "cell_type": "code",
   "execution_count": 7,
   "metadata": {
    "collapsed": true
   },
   "outputs": [],
   "source": [
    "c = Classifier(('negative', LM_neg), ('positive', LM_pos))\n",
    "c_char = Classifier(('negative', LM_neg_char), ('positive', LM_pos_char))"
   ]
  },
  {
   "cell_type": "code",
   "execution_count": null,
   "metadata": {
    "collapsed": false
   },
   "outputs": [],
   "source": [
    "acc1 = c_char.test_accuracy('corpora/rt-polaritydata/rt-polaritydata/rt-polarity.neg', 'negative')\n",
    "acc2 = c_char.test_accuracy('corpora/rt-polaritydata/rt-polaritydata/rt-polarity.pos', 'positive')\n",
    "print acc1, acc2"
   ]
  },
  {
   "cell_type": "code",
   "execution_count": 20,
   "metadata": {
    "collapsed": false
   },
   "outputs": [
    {
     "name": "stdout",
     "output_type": "stream",
     "text": [
      "{'positive': -42.40007842297828, 'negative': -43.98086610089278}\n"
     ]
    },
    {
     "data": {
      "text/plain": [
       "'positive'"
      ]
     },
     "execution_count": 20,
     "metadata": {},
     "output_type": "execute_result"
    }
   ],
   "source": [
    "\n",
    "c_char.classify('This is fantastic')"
   ]
  },
  {
   "cell_type": "code",
   "execution_count": 23,
   "metadata": {
    "collapsed": false
   },
   "outputs": [
    {
     "name": "stdout",
     "output_type": "stream",
     "text": [
      "6.55465303037\n",
      "0.505552255179\n"
     ]
    }
   ],
   "source": [
    "a = {'positive': -88.90971302904366, 'negative': -83.44047913487745}\n",
    "b = {'positive': -50.56189144790583, 'negative': -50.30756044156797}\n",
    "\n",
    "l = [a,b]\n",
    "for i in l:\n",
    "    c = list(i.values())\n",
    "    print(((max(c) - min(c)) / -max(c))*100)"
   ]
  },
  {
   "cell_type": "code",
   "execution_count": null,
   "metadata": {
    "collapsed": false
   },
   "outputs": [],
   "source": [
    "def caesar(text, n):\n",
    "    result = []\n",
    "    for i, char in enumerate(text):\n",
    "        if char.isalpha():\n",
    "            if char.isupper():\n",
    "                char = chr((ord(char) - 65 + n) % 26 + 65)\n",
    "            else:\n",
    "                char = chr((ord(char) - 97 + n) % 26 + 97)\n",
    "        result.append(char)\n",
    "    return ''.join(result)\n",
    "\n",
    "text = caesar(\"What could it be?\", 24)\n",
    "results = [(caesar(text, i), LM_neg.compute_prob(caesar(text, i))) for i in range(-25, 0)[::-1]]\n",
    "print sorted(results, key=lambda x: x[1], reverse=True)[0]"
   ]
  },
  {
   "cell_type": "code",
   "execution_count": null,
   "metadata": {
    "collapsed": true
   },
   "outputs": [],
   "source": []
  }
 ],
 "metadata": {
  "anaconda-cloud": {},
  "kernelspec": {
   "display_name": "Python [conda root]",
   "language": "python",
   "name": "conda-root-py"
  },
  "language_info": {
   "codemirror_mode": {
    "name": "ipython",
    "version": 2
   },
   "file_extension": ".py",
   "mimetype": "text/x-python",
   "name": "python",
   "nbconvert_exporter": "python",
   "pygments_lexer": "ipython2",
   "version": "2.7.14"
  }
 },
 "nbformat": 4,
 "nbformat_minor": 1
}
